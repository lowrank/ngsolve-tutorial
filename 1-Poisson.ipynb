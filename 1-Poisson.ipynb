{
 "cells": [
  {
   "cell_type": "markdown",
   "id": "5311ff99-b17f-4734-8829-f3f0ff8978c2",
   "metadata": {},
   "source": [
    "# Poisson Equation\n",
    "\n",
    "In this example we walk through an exmaple solving the Poisson equation $ -\\Delta u(x, y) = f(x, y)$ on a unit square domain. The boundary condition is given by Dirichlet BC $u = \\sin(x)$ on all sides."
   ]
  },
  {
   "cell_type": "markdown",
   "id": "ac3e5789-d00f-429f-aa35-b30fcaec4e77",
   "metadata": {},
   "source": [
    "## Using NGSolve\n",
    "\n",
    "NGSolve can be imported by \n",
    "\n",
    "```\n",
    "from ngsolve import *\n",
    "```\n",
    "\n",
    "The visualization functionality can be imported by \n",
    "\n",
    "```\n",
    "from ngsolve.webgui import Draw\n",
    "```"
   ]
  },
  {
   "cell_type": "code",
   "execution_count": 1,
   "id": "785f06cf-eed7-46f5-8e79-3b6d10168708",
   "metadata": {},
   "outputs": [],
   "source": [
    "# A complete tutorial can be https://docu.ngsolve.org/latest/i-tutorials/\n",
    "\n",
    "from ngsolve import *\n",
    "from ngsolve.webgui import Draw"
   ]
  },
  {
   "cell_type": "markdown",
   "id": "b868f05a-910d-4bab-bf11-bb2046a7683f",
   "metadata": {},
   "source": [
    "## Mesh\n",
    "\n",
    "First, we need to define the mesh for the problem. NGSolve provides some default meshing functions (e.g. Circles, Rectangles). \n",
    "\n",
    "```\n",
    "mesh = Mesh(unit_square.GenerateMesh(maxh=0.2)) # it creates a mesh for unit square\n",
    "\n",
    "```\n",
    "\n",
    "``maxh`` controls the size of each element."
   ]
  },
  {
   "cell_type": "code",
   "execution_count": 2,
   "id": "a0f8931e-7dae-4bf2-95fa-173380c24ddc",
   "metadata": {},
   "outputs": [
    {
     "name": "stdout",
     "output_type": "stream",
     "text": [
      "mesh vertices:  134 \n",
      "mesh elements:  226\n"
     ]
    }
   ],
   "source": [
    "mesh = Mesh(unit_square.GenerateMesh(maxh=0.1))\n",
    "print('mesh vertices: ', mesh.nv, \"\\nmesh elements: \", mesh.ne )  # dnumber of vertices & elements"
   ]
  },
  {
   "cell_type": "code",
   "execution_count": 3,
   "id": "6d63f569-a002-4b28-976c-8646ac778e93",
   "metadata": {},
   "outputs": [
    {
     "data": {
      "application/vnd.jupyter.widget-view+json": {
       "model_id": "6d34a8502f8e48e8af1ec76ad6b447dd",
       "version_major": 2,
       "version_minor": 0
      },
      "text/plain": [
       "WebGuiWidget(layout=Layout(height='50vh', width='100%'), value={'gui_settings': {}, 'ngsolve_version': '6.2.24…"
      ]
     },
     "metadata": {},
     "output_type": "display_data"
    },
    {
     "data": {
      "text/plain": [
       "BaseWebGuiScene"
      ]
     },
     "execution_count": 3,
     "metadata": {},
     "output_type": "execute_result"
    }
   ],
   "source": [
    "Draw(mesh)"
   ]
  },
  {
   "cell_type": "markdown",
   "id": "2857cdd2-5c4e-4b1d-a22a-95e65b3f7711",
   "metadata": {},
   "source": [
    "## Refinement of Mesh\n",
    "\n",
    "If a finer mesh is needed, one can reduce the parameter ``maxh`` or \n",
    "\n",
    "```\n",
    "mesh.Refine()\n",
    "```\n",
    "\n",
    "to refine the mesh (of course you can call this procedure multiple times)"
   ]
  },
  {
   "cell_type": "code",
   "execution_count": 4,
   "id": "01f7398f-cc4b-4233-ad74-f9316913ec2c",
   "metadata": {},
   "outputs": [
    {
     "data": {
      "application/vnd.jupyter.widget-view+json": {
       "model_id": "5347ddf6231048a8b8759e45fafca647",
       "version_major": 2,
       "version_minor": 0
      },
      "text/plain": [
       "WebGuiWidget(layout=Layout(height='50vh', width='100%'), value={'gui_settings': {}, 'ngsolve_version': '6.2.24…"
      ]
     },
     "metadata": {},
     "output_type": "display_data"
    },
    {
     "data": {
      "text/plain": [
       "BaseWebGuiScene"
      ]
     },
     "execution_count": 4,
     "metadata": {},
     "output_type": "execute_result"
    }
   ],
   "source": [
    "mesh.Refine()\n",
    "\n",
    "Draw(mesh)"
   ]
  },
  {
   "cell_type": "code",
   "execution_count": 5,
   "id": "609b7e69-4cfd-492c-869f-dd6531172aaa",
   "metadata": {},
   "outputs": [
    {
     "data": {
      "application/vnd.jupyter.widget-view+json": {
       "model_id": "4fd4e6855f51488cb1221f51284b5cf0",
       "version_major": 2,
       "version_minor": 0
      },
      "text/plain": [
       "WebGuiWidget(layout=Layout(height='50vh', width='100%'), value={'gui_settings': {}, 'ngsolve_version': '6.2.24…"
      ]
     },
     "metadata": {},
     "output_type": "display_data"
    },
    {
     "data": {
      "text/plain": [
       "BaseWebGuiScene"
      ]
     },
     "execution_count": 5,
     "metadata": {},
     "output_type": "execute_result"
    }
   ],
   "source": [
    "mesh.Refine()\n",
    "\n",
    "Draw(mesh)"
   ]
  },
  {
   "cell_type": "markdown",
   "id": "8dd7ef85-ed16-44d5-868d-34966fbfb2e1",
   "metadata": {},
   "source": [
    "## Boundary Condition\n",
    "\n",
    "To extract boundary information, we can run \n",
    "\n",
    "```\n",
    "mesh.GetBoundaries()\n",
    "```"
   ]
  },
  {
   "cell_type": "code",
   "execution_count": 6,
   "id": "1b9b04b6-6a3e-4114-a67f-0bb98f29fca5",
   "metadata": {},
   "outputs": [
    {
     "data": {
      "text/plain": [
       "('bottom', 'right', 'top', 'left')"
      ]
     },
     "execution_count": 6,
     "metadata": {},
     "output_type": "execute_result"
    }
   ],
   "source": [
    "mesh.GetBoundaries()"
   ]
  },
  {
   "cell_type": "markdown",
   "id": "b2081836-ebb8-4fa5-b46d-2b87b4d417b4",
   "metadata": {},
   "source": [
    "It has 4 boundary pieces labelled by 'bottom', 'right', 'top', 'left'."
   ]
  },
  {
   "cell_type": "markdown",
   "id": "75450e1d-e804-4900-b23c-5f75bc83613f",
   "metadata": {},
   "source": [
    "## Define A Function\n",
    "\n",
    "Next, we need to define our $f(x, y)$, say we let $f(x, y) = \\sin(x)$. \n",
    "\n",
    "In NGSolve, this is done by using coefficient functions, which is very simple. Just\n",
    "\n",
    "```\n",
    "f = sin(x)\n",
    "```"
   ]
  },
  {
   "cell_type": "code",
   "execution_count": 7,
   "id": "ebbc4166-9848-4825-a2f7-30f0961c0e50",
   "metadata": {},
   "outputs": [],
   "source": [
    "f = sin(x)"
   ]
  },
  {
   "cell_type": "markdown",
   "id": "1c6917b1-a143-4b48-8b6c-04ee0513da8d",
   "metadata": {},
   "source": [
    "## Finite Element Space\n",
    "\n",
    "The corresponding finite element space is constructed by \n",
    "\n",
    "```\n",
    "fes = H1(mesh, order=2, dirichlet='bottom|right|top|left')\n",
    "```\n",
    "\n",
    "``order`` is the polynomial's degree on each element. Higher ``order`` usually gets better results but runs significantly slower. \n",
    "\n",
    "The parameter `dirichlet` marks the boundary points outside ``ndof`` (num of degree of freedom). The values on those boundary points must be given by the user. "
   ]
  },
  {
   "cell_type": "code",
   "execution_count": 8,
   "id": "dd6bba2d-25c8-4f49-b26e-70ac02cbd837",
   "metadata": {},
   "outputs": [],
   "source": [
    "fes = H1(mesh, order=2, dirichlet='bottom|right|top|left')"
   ]
  },
  {
   "cell_type": "markdown",
   "id": "4b49fd1d-ab37-48e1-aa2d-d97978cfad80",
   "metadata": {},
   "source": [
    "## Weak Formulation\n",
    "\n",
    "The weak formulation is $\\displaystyle\\int_D \\nabla u\\cdot \\nabla v_0 dx = -\\int_D f v_0 dx$ if $v_0 = 0$ on the Dirichlet BC (or equivalently $H_0^1(D)$). The usual approach splits the solution into \n",
    "\n",
    "$$u = u_0 + u_{Dirichlet}$$\n",
    "\n",
    "where $u_0\\in H_0^1(D)$ and $u_{Dirichlet}$ should be understood as the extension of boundary condition into the whole domain.  Thus we actually solves\n",
    "\n",
    "$$\\displaystyle\\int_D \\nabla u_0\\cdot \\nabla v_0 dx + \\displaystyle\\int_D \\nabla u_{Dirichlet}\\cdot \\nabla v_0 dx = -\\int_D f v_0 dx$$\n",
    "\n",
    "or \n",
    "\n",
    "$$\\displaystyle\\int_D \\nabla u_0\\cdot \\nabla v_0 dx = -\\int_D f v_0 dx - \\displaystyle\\int_D \\nabla u_{Dirichlet}\\cdot \\nabla v_0 dx $$\n"
   ]
  },
  {
   "cell_type": "markdown",
   "id": "d7da94dc-6180-4bc5-a32e-fdbbcf13d09e",
   "metadata": {},
   "source": [
    "## Extension of BC \n",
    "\n",
    "To obtain $u_{Dirichlet}$, we first define the function \n",
    "\n",
    "```\n",
    "g = sin(x)\n",
    "```\n",
    "\n",
    "Here ``x`` is a symbol (actually a function) imported from NGSolve."
   ]
  },
  {
   "cell_type": "code",
   "execution_count": 9,
   "id": "c663d9ec-d1d7-42cd-a39b-2b665222f5f8",
   "metadata": {},
   "outputs": [],
   "source": [
    "g = sin(x)"
   ]
  },
  {
   "cell_type": "markdown",
   "id": "fae2266b-a4d1-45e4-8ab5-a285b9c2ea57",
   "metadata": {},
   "source": [
    "Then use ``GridFunction`` to interpolate the boundary condition into the finite element space. "
   ]
  },
  {
   "cell_type": "code",
   "execution_count": 10,
   "id": "09abbf61-0823-4e07-ba8e-b44661f08a93",
   "metadata": {},
   "outputs": [],
   "source": [
    "u_D = GridFunction(fes)\n",
    "u_D.Set(g, BND) # BND means interpolation on (near) boundary only"
   ]
  },
  {
   "cell_type": "code",
   "execution_count": 11,
   "id": "8011871b-94db-42f2-9d35-2d1df3250f67",
   "metadata": {},
   "outputs": [
    {
     "data": {
      "application/vnd.jupyter.widget-view+json": {
       "model_id": "ed0e9a7753554f4494c13d34fb7e3d26",
       "version_major": 2,
       "version_minor": 0
      },
      "text/plain": [
       "WebGuiWidget(layout=Layout(height='50vh', width='100%'), value={'gui_settings': {}, 'ngsolve_version': '6.2.24…"
      ]
     },
     "metadata": {},
     "output_type": "display_data"
    },
    {
     "data": {
      "text/plain": [
       "BaseWebGuiScene"
      ]
     },
     "execution_count": 11,
     "metadata": {},
     "output_type": "execute_result"
    }
   ],
   "source": [
    "Draw(u_D)"
   ]
  },
  {
   "cell_type": "markdown",
   "id": "2a2f455b-5c35-44a3-81c6-77921aa9e366",
   "metadata": {},
   "source": [
    "# Assembly\n",
    "\n",
    "NGSolve provides an easy way to construct the weak form and assembly. \n",
    "\n",
    "```\n",
    "u = fes.TrialFunction()  # symbolic object\n",
    "v = fes.TestFunction()   # symbolic object\n",
    "sol = GridFunction(fes)  # solution\n",
    "\n",
    "```\n",
    "Sometimes the first two statements are combined into one.\n",
    "```\n",
    "u, v = fes.TnT() # Trial and Test\n",
    "```\n",
    "\n",
    "The linear and bilinear forms are straightforward\n",
    "\n",
    "```\n",
    "a = BilinearForm(grad(u)*grad(v)*dx)\n",
    "f = LinearForm(0 * v * dx) # since the RHS of Poisson Eq is 0.\n",
    "```\n",
    "\n",
    "Finally, assemble them\n",
    "\n",
    "```\n",
    "\n",
    "a.Assemble()\n",
    "f.Assemble()\n",
    "```\n"
   ]
  },
  {
   "cell_type": "code",
   "execution_count": 12,
   "id": "fccfebf0-955d-406e-9235-ae50862c0236",
   "metadata": {},
   "outputs": [],
   "source": [
    "u = fes.TrialFunction()  # symbolic object\n",
    "v = fes.TestFunction()   # symbolic object\n",
    "sol = GridFunction(fes)  # solution"
   ]
  },
  {
   "cell_type": "code",
   "execution_count": 13,
   "id": "9882021a-4d0f-4aeb-9e88-21696ce122fd",
   "metadata": {},
   "outputs": [
    {
     "data": {
      "text/plain": [
       "<ngsolve.comp.LinearForm at 0x75ac28536730>"
      ]
     },
     "execution_count": 13,
     "metadata": {},
     "output_type": "execute_result"
    }
   ],
   "source": [
    "a = BilinearForm(grad(u)*grad(v)*dx)\n",
    "L = LinearForm(f * v * dx) # since the RHS of Poisson Eq is 0.\n",
    "\n",
    "a.Assemble()\n",
    "L.Assemble()"
   ]
  },
  {
   "cell_type": "markdown",
   "id": "44aea0f2-4eca-4986-aa64-fd1cd328288e",
   "metadata": {},
   "source": [
    "## Solve for Free DOFs"
   ]
  },
  {
   "cell_type": "code",
   "execution_count": 14,
   "id": "981e36c9-81b0-4941-af9a-9635a2ac75cb",
   "metadata": {},
   "outputs": [],
   "source": [
    "r = L.vec - a.mat * u_D.vec"
   ]
  },
  {
   "cell_type": "code",
   "execution_count": 15,
   "id": "e4c5a924-de56-4262-8d61-237b5befa611",
   "metadata": {},
   "outputs": [],
   "source": [
    "sol.vec.data = a.mat.Inverse(freedofs=fes.FreeDofs()) * r + u_D.vec.data"
   ]
  },
  {
   "cell_type": "code",
   "execution_count": 16,
   "id": "f5ee23bc-0e9d-4af3-9c7b-4e24c95fc569",
   "metadata": {},
   "outputs": [
    {
     "data": {
      "application/vnd.jupyter.widget-view+json": {
       "model_id": "1bad01382a9843e6b070f73861b55842",
       "version_major": 2,
       "version_minor": 0
      },
      "text/plain": [
       "WebGuiWidget(layout=Layout(height='50vh', width='100%'), value={'gui_settings': {}, 'ngsolve_version': '6.2.24…"
      ]
     },
     "metadata": {},
     "output_type": "display_data"
    },
    {
     "data": {
      "text/plain": [
       "BaseWebGuiScene"
      ]
     },
     "execution_count": 16,
     "metadata": {},
     "output_type": "execute_result"
    }
   ],
   "source": [
    "Draw(sol)"
   ]
  },
  {
   "cell_type": "markdown",
   "id": "bfdc18a9-a5c0-4d82-b991-6126b93ddb14",
   "metadata": {},
   "source": [
    "## Estimate the Error\n",
    "\n",
    "The exact solution is $u = sin(x)$, we can compare the L2 error squared by \n",
    "\n",
    "```\n",
    "Integrate( (sol - true_sol) **2, mesh)\n",
    "```"
   ]
  },
  {
   "cell_type": "code",
   "execution_count": 19,
   "id": "c8501212-2894-46a4-a25f-52436d10521c",
   "metadata": {},
   "outputs": [
    {
     "data": {
      "text/plain": [
       "1.8622375811255602e-14"
      ]
     },
     "execution_count": 19,
     "metadata": {},
     "output_type": "execute_result"
    }
   ],
   "source": [
    "true_sol = sin(x)\n",
    "Integrate( (sol - true_sol) **2 , mesh)"
   ]
  }
 ],
 "metadata": {
  "kernelspec": {
   "display_name": "Python 3 (ipykernel)",
   "language": "python",
   "name": "python3"
  },
  "language_info": {
   "codemirror_mode": {
    "name": "ipython",
    "version": 3
   },
   "file_extension": ".py",
   "mimetype": "text/x-python",
   "name": "python",
   "nbconvert_exporter": "python",
   "pygments_lexer": "ipython3",
   "version": "3.12.2"
  }
 },
 "nbformat": 4,
 "nbformat_minor": 5
}
