{
 "cells": [
  {
   "cell_type": "markdown",
   "id": "f9a9852d-f18a-4ebe-a7b6-938aa4d7b5fb",
   "metadata": {},
   "source": [
    "# Subdomains\n",
    "\n",
    "Sometimes our problem may involve multiple subdomains.\n"
   ]
  },
  {
   "cell_type": "code",
   "execution_count": 1,
   "id": "59ea11e9-5fab-4e37-93d5-33f1acbb6095",
   "metadata": {},
   "outputs": [],
   "source": [
    "from ngsolve import *\n",
    "from ngsolve.webgui import Draw\n",
    "from netgen.occ import *   # Opencascade for geometry modeling"
   ]
  },
  {
   "cell_type": "code",
   "execution_count": 2,
   "id": "82c3e875-d5de-48d0-a9e9-619fbee13177",
   "metadata": {},
   "outputs": [],
   "source": [
    "# We first create a rectange of size 2x2\n",
    "\n",
    "outer = Rectangle(2, 2).Face()\n",
    "outer.edges.name=\"outer\"\n",
    "outer.edges.Max(X).name = \"right\"\n",
    "outer.edges.Min(X).name = \"left\"\n",
    "outer.edges.Min(Y).name = \"bottom\"\n",
    "outer.edges.Max(Y).name = \"top\""
   ]
  },
  {
   "cell_type": "code",
   "execution_count": 3,
   "id": "bac5e8b9-1c31-42ca-8d5f-53e658166cd0",
   "metadata": {},
   "outputs": [
    {
     "data": {
      "application/vnd.jupyter.widget-view+json": {
       "model_id": "8a757ff4f90c4f75bac26ad33e4a29b5",
       "version_major": 2,
       "version_minor": 0
      },
      "text/plain": [
       "WebGuiWidget(layout=Layout(height='50vh', width='100%'), value={'ngsolve_version': 'Netgen x.x', 'mesh_dim': 3…"
      ]
     },
     "metadata": {},
     "output_type": "display_data"
    }
   ],
   "source": [
    "# We create a smaller rectangle inside the large one. \n",
    "\n",
    "inner = MoveTo(1, 0.9).Rectangle(0.3, 0.5).Face()\n",
    "inner.edges.name=\"interface\"\n",
    "inner.maxh = 0.05\n",
    "\n",
    "# We also create a circle inside the large one\n",
    "circle = MoveTo(0.5, 0.5).Circle(0.25).Face()\n",
    "circle.edges.name=\"circle-interface\"\n",
    "circle.maxh = 0.02\n",
    "\n",
    "# subtraction!\n",
    "\n",
    "outer = outer - inner - circle \n",
    "\n",
    "inner.faces.name=\"inner\"\n",
    "inner.faces.col = (1, 0, 0) # color\n",
    "circle.faces.name = \"circle\"\n",
    "circle.faces.col = (0,0,1)\n",
    "outer.faces.name=\"outer\"\n",
    "\n",
    "geo = Glue([inner, circle, outer])\n",
    "Draw(geo);"
   ]
  },
  {
   "cell_type": "code",
   "execution_count": 4,
   "id": "0dfa1d73-6c11-4c7f-82df-b306b2702910",
   "metadata": {},
   "outputs": [
    {
     "data": {
      "application/vnd.jupyter.widget-view+json": {
       "model_id": "af17b1bb79df41dc943f3a662fd1e186",
       "version_major": 2,
       "version_minor": 0
      },
      "text/plain": [
       "WebGuiWidget(layout=Layout(height='50vh', width='100%'), value={'gui_settings': {}, 'ngsolve_version': '6.2.24…"
      ]
     },
     "metadata": {},
     "output_type": "display_data"
    }
   ],
   "source": [
    "# This maxh is a global one.\n",
    "\n",
    "mesh = Mesh(OCCGeometry(geo, dim=2).GenerateMesh(maxh=0.2)) \n",
    "Draw(mesh);"
   ]
  },
  {
   "cell_type": "markdown",
   "id": "f89bebfe-0b1c-4907-a5ab-fdd1449dc7c4",
   "metadata": {},
   "source": [
    "# Other domain shapes\n",
    "\n",
    "We can create other domain shapes easily using the same syntax. \n",
    "\n",
    "For instance, if we want the rectangle and circle regions to be a cavity, we only have to use \n",
    "\n",
    "```\n",
    "geo = Glue([outer])\n",
    "Draw(geo);\n",
    "```\n",
    "\n",
    "to create the geometry on the outer medium only."
   ]
  },
  {
   "cell_type": "code",
   "execution_count": 5,
   "id": "144c3ec5-e97e-4db7-8b6c-5e6301459653",
   "metadata": {},
   "outputs": [
    {
     "data": {
      "application/vnd.jupyter.widget-view+json": {
       "model_id": "7d520970e248454588cd56a8e93c0e29",
       "version_major": 2,
       "version_minor": 0
      },
      "text/plain": [
       "WebGuiWidget(layout=Layout(height='50vh', width='100%'), value={'ngsolve_version': 'Netgen x.x', 'mesh_dim': 3…"
      ]
     },
     "metadata": {},
     "output_type": "display_data"
    }
   ],
   "source": [
    "cavity_geo = Glue([outer])\n",
    "Draw(cavity_geo);"
   ]
  },
  {
   "cell_type": "code",
   "execution_count": 6,
   "id": "5d2873d6-8bf4-4723-8ba5-5902c170d27e",
   "metadata": {},
   "outputs": [
    {
     "data": {
      "application/vnd.jupyter.widget-view+json": {
       "model_id": "8efb5d89ad6440c0af76b686d31d1910",
       "version_major": 2,
       "version_minor": 0
      },
      "text/plain": [
       "WebGuiWidget(layout=Layout(height='50vh', width='100%'), value={'gui_settings': {}, 'ngsolve_version': '6.2.24…"
      ]
     },
     "metadata": {},
     "output_type": "display_data"
    }
   ],
   "source": [
    "cavity_mesh = Mesh(OCCGeometry(cavity_geo, dim=2).GenerateMesh(maxh=0.05)) \n",
    "Draw(cavity_mesh);"
   ]
  },
  {
   "cell_type": "markdown",
   "id": "3c153e18-9bc2-40ec-9006-7f2cb4af345f",
   "metadata": {},
   "source": [
    "Let's construct an L-shape. "
   ]
  },
  {
   "cell_type": "code",
   "execution_count": 7,
   "id": "bc7c833e-f56b-422e-8aba-c9ac46bbc2e7",
   "metadata": {},
   "outputs": [
    {
     "data": {
      "application/vnd.jupyter.widget-view+json": {
       "model_id": "9a77e05d7e8649299ca8cfbda33b3608",
       "version_major": 2,
       "version_minor": 0
      },
      "text/plain": [
       "WebGuiWidget(layout=Layout(height='50vh', width='100%'), value={'ngsolve_version': 'Netgen x.x', 'mesh_dim': 3…"
      ]
     },
     "metadata": {},
     "output_type": "display_data"
    }
   ],
   "source": [
    "L1 = Rectangle(1, 2).Face()\n",
    "L1.edges.name=\"outer\"\n",
    "\n",
    "\n",
    "L2 = MoveTo(1, 0).Rectangle(1, 1).Face()\n",
    "L2.edges.name=\"interface\"\n",
    "\n",
    "L1 = L2 + L1\n",
    "\n",
    "Draw(L1);"
   ]
  },
  {
   "cell_type": "code",
   "execution_count": 8,
   "id": "5aa094c8-71e6-4112-bfca-c449429a306c",
   "metadata": {},
   "outputs": [
    {
     "data": {
      "application/vnd.jupyter.widget-view+json": {
       "model_id": "a2b6f844e3c5458eacac7e71eb020c99",
       "version_major": 2,
       "version_minor": 0
      },
      "text/plain": [
       "WebGuiWidget(layout=Layout(height='50vh', width='100%'), value={'gui_settings': {}, 'ngsolve_version': '6.2.24…"
      ]
     },
     "metadata": {},
     "output_type": "display_data"
    }
   ],
   "source": [
    "L_mesh = Mesh(OCCGeometry(L1, dim=2).GenerateMesh(maxh=0.2)) \n",
    "Draw(L_mesh);"
   ]
  },
  {
   "cell_type": "code",
   "execution_count": 9,
   "id": "ccb37255-ce47-4f9c-9dfc-8fb7363ba78e",
   "metadata": {},
   "outputs": [
    {
     "data": {
      "text/plain": [
       "('interface', 'interface', 'outer', 'outer', 'outer', 'interface')"
      ]
     },
     "execution_count": 9,
     "metadata": {},
     "output_type": "execute_result"
    }
   ],
   "source": [
    "L_mesh.GetBoundaries()"
   ]
  },
  {
   "cell_type": "markdown",
   "id": "cb69de5c-9cff-4123-a360-85b75ebdf31a",
   "metadata": {},
   "source": [
    "# Solve Poisson Equation on L-shape\n",
    "\n",
    "We simply copy all of the previous codes here (the mesh has been changed)."
   ]
  },
  {
   "cell_type": "code",
   "execution_count": 10,
   "id": "5ae6c651-c84f-480f-bf7f-3454d6ddde17",
   "metadata": {},
   "outputs": [],
   "source": [
    "f = sin(x)\n",
    "fes = H1(L_mesh, order=2, dirichlet=[1,2,3,4,5,6])"
   ]
  },
  {
   "cell_type": "code",
   "execution_count": 11,
   "id": "37f2aa85-677b-4d92-99a0-9bc7ba518e86",
   "metadata": {},
   "outputs": [
    {
     "data": {
      "application/vnd.jupyter.widget-view+json": {
       "model_id": "0c207453c5af4c79946e26d0a6a05881",
       "version_major": 2,
       "version_minor": 0
      },
      "text/plain": [
       "WebGuiWidget(layout=Layout(height='50vh', width='100%'), value={'gui_settings': {}, 'ngsolve_version': '6.2.24…"
      ]
     },
     "metadata": {},
     "output_type": "display_data"
    },
    {
     "data": {
      "text/plain": [
       "BaseWebGuiScene"
      ]
     },
     "execution_count": 11,
     "metadata": {},
     "output_type": "execute_result"
    }
   ],
   "source": [
    "g = sin(x)\n",
    "u_D = GridFunction(fes)\n",
    "u_D.Set(g, BND) # BND means interpolation on (near) boundary only\n",
    "Draw(u_D)"
   ]
  },
  {
   "cell_type": "code",
   "execution_count": 12,
   "id": "d730859a-5f7f-41e7-9bdc-33dacd578d80",
   "metadata": {},
   "outputs": [
    {
     "data": {
      "application/vnd.jupyter.widget-view+json": {
       "model_id": "8b1c7c293ef44efcb4a059e5645aa380",
       "version_major": 2,
       "version_minor": 0
      },
      "text/plain": [
       "WebGuiWidget(layout=Layout(height='50vh', width='100%'), value={'gui_settings': {}, 'ngsolve_version': '6.2.24…"
      ]
     },
     "metadata": {},
     "output_type": "display_data"
    },
    {
     "data": {
      "text/plain": [
       "BaseWebGuiScene"
      ]
     },
     "execution_count": 12,
     "metadata": {},
     "output_type": "execute_result"
    }
   ],
   "source": [
    "u = fes.TrialFunction()  # symbolic object\n",
    "v = fes.TestFunction()   # symbolic object\n",
    "sol = GridFunction(fes)  # solution\n",
    "\n",
    "a = BilinearForm(grad(u)*grad(v)*dx)\n",
    "L = LinearForm(f * v * dx) \n",
    "\n",
    "a.Assemble()\n",
    "L.Assemble()\n",
    "\n",
    "r = L.vec - a.mat * u_D.vec\n",
    "\n",
    "sol.vec.data = a.mat.Inverse(freedofs=fes.FreeDofs()) * r + u_D.vec.data\n",
    "\n",
    "Draw(sol)"
   ]
  },
  {
   "cell_type": "code",
   "execution_count": 13,
   "id": "60021f63-0f17-4fc2-850c-9d268aad3ccc",
   "metadata": {},
   "outputs": [
    {
     "data": {
      "text/plain": [
       "1.715254106191511e-09"
      ]
     },
     "execution_count": 13,
     "metadata": {},
     "output_type": "execute_result"
    }
   ],
   "source": [
    "true_sol = sin(x)\n",
    "Integrate( (sol - true_sol) **2 , L_mesh)"
   ]
  }
 ],
 "metadata": {
  "kernelspec": {
   "display_name": "Python 3 (ipykernel)",
   "language": "python",
   "name": "python3"
  },
  "language_info": {
   "codemirror_mode": {
    "name": "ipython",
    "version": 3
   },
   "file_extension": ".py",
   "mimetype": "text/x-python",
   "name": "python",
   "nbconvert_exporter": "python",
   "pygments_lexer": "ipython3",
   "version": "3.12.2"
  }
 },
 "nbformat": 4,
 "nbformat_minor": 5
}
