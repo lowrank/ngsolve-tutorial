{
 "cells": [
  {
   "cell_type": "markdown",
   "id": "9628f24d-f732-4764-95a1-3a84b02d4b12",
   "metadata": {},
   "source": [
    "# Wave Equation\n",
    "\n",
    "We consider the previous geometry."
   ]
  },
  {
   "cell_type": "code",
   "execution_count": 1,
   "id": "55fdcf6c-7004-44eb-b6e7-62880b18376a",
   "metadata": {},
   "outputs": [],
   "source": [
    "from ngsolve import *\n",
    "from ngsolve.webgui import Draw\n",
    "from netgen.occ import *   # Opencascade for geometry modeling"
   ]
  },
  {
   "cell_type": "code",
   "execution_count": 2,
   "id": "5f373a15-9b52-4187-9760-1c14fbcd1d6f",
   "metadata": {},
   "outputs": [
    {
     "data": {
      "application/vnd.jupyter.widget-view+json": {
       "model_id": "6b8bd77fcf0b4b64b35af020f4d252c5",
       "version_major": 2,
       "version_minor": 0
      },
      "text/plain": [
       "WebGuiWidget(layout=Layout(height='50vh', width='100%'), value={'ngsolve_version': 'Netgen x.x', 'mesh_dim': 3…"
      ]
     },
     "metadata": {},
     "output_type": "display_data"
    }
   ],
   "source": [
    "outer = Rectangle(2, 2).Face()\n",
    "outer.edges.name=\"outer\"\n",
    "outer.edges.Max(X).name = \"right\"\n",
    "outer.edges.Min(X).name = \"left\"\n",
    "outer.edges.Min(Y).name = \"bottom\"\n",
    "outer.edges.Max(Y).name = \"top\"\n",
    "\n",
    "# We create a smaller rectangle inside the large one. \n",
    "\n",
    "inner = MoveTo(1, 0.9).Rectangle(0.3, 0.5).Face()\n",
    "inner.edges.name=\"interface\"\n",
    "inner.maxh = 0.05\n",
    "\n",
    "# We also create a circle inside the large one\n",
    "circle = MoveTo(0.5, 0.5).Circle(0.25).Face()\n",
    "circle.edges.name=\"circle-interface\"\n",
    "circle.maxh = 0.02\n",
    "\n",
    "# subtraction!\n",
    "\n",
    "outer = outer - inner - circle \n",
    "\n",
    "inner.faces.name=\"inner\"\n",
    "inner.faces.col = (1, 0, 0) # color\n",
    "circle.faces.name = \"circle\"\n",
    "circle.faces.col = (0,0,1)\n",
    "outer.faces.name=\"outer\"\n",
    "\n",
    "geo = Glue([outer])\n",
    "Draw(geo);"
   ]
  },
  {
   "cell_type": "code",
   "execution_count": 9,
   "id": "ab672e6f-bb51-4a01-9a14-66ededa4f705",
   "metadata": {},
   "outputs": [
    {
     "data": {
      "application/vnd.jupyter.widget-view+json": {
       "model_id": "3ec4ced5d19c43848ecad1a5c3676548",
       "version_major": 2,
       "version_minor": 0
      },
      "text/plain": [
       "WebGuiWidget(layout=Layout(height='50vh', width='100%'), value={'gui_settings': {}, 'ngsolve_version': '6.2.24…"
      ]
     },
     "metadata": {},
     "output_type": "display_data"
    }
   ],
   "source": [
    "# This maxh is a global one.\n",
    "\n",
    "mesh = Mesh(OCCGeometry(geo, dim=2).GenerateMesh(maxh=0.05)) \n",
    "Draw(mesh);"
   ]
  },
  {
   "cell_type": "markdown",
   "id": "66c0aef2-8a79-424d-88d2-ccd25a002adb",
   "metadata": {},
   "source": [
    "## Complex Valued FES"
   ]
  },
  {
   "cell_type": "code",
   "execution_count": 10,
   "id": "5cd0543f-0263-475c-bee6-8164e436c55b",
   "metadata": {},
   "outputs": [],
   "source": [
    "fes = H1(mesh, order=5, complex=True) # Now we need complex values\n",
    "u, v = fes.TnT()"
   ]
  },
  {
   "cell_type": "markdown",
   "id": "12f58152-d168-495b-9286-f83a7d6e19a8",
   "metadata": {},
   "source": [
    "## Gaussian Pulse Function\n",
    "The function $f$ is a Gaussian pulse."
   ]
  },
  {
   "cell_type": "code",
   "execution_count": 17,
   "id": "fc2d178b-1d4a-43da-b9eb-6a5e3cb95995",
   "metadata": {},
   "outputs": [
    {
     "data": {
      "application/vnd.jupyter.widget-view+json": {
       "model_id": "ee3bb2b79bf54fbd8ae80ccd6f2cbc0f",
       "version_major": 2,
       "version_minor": 0
      },
      "text/plain": [
       "WebGuiWidget(layout=Layout(height='50vh', width='100%'), value={'gui_settings': {}, 'ngsolve_version': '6.2.24…"
      ]
     },
     "metadata": {},
     "output_type": "display_data"
    },
    {
     "data": {
      "text/plain": [
       "BaseWebGuiScene"
      ]
     },
     "execution_count": 17,
     "metadata": {},
     "output_type": "execute_result"
    }
   ],
   "source": [
    "k = 50 # frequency\n",
    "pulse = 400*exp(-(20**2)*((x-0.8)*(x-0.8) + (y-1)*(y-1)))\n",
    "Draw(pulse, mesh, order=5)"
   ]
  },
  {
   "cell_type": "markdown",
   "id": "1094606b-def6-46fc-ae3e-9a8f590d1e46",
   "metadata": {},
   "source": [
    "## Weak Form"
   ]
  },
  {
   "cell_type": "code",
   "execution_count": 18,
   "id": "ea53ff44-0e88-4e13-b367-25fe651974d4",
   "metadata": {},
   "outputs": [],
   "source": [
    "# Forms\n",
    "a = BilinearForm(fes)\n",
    "a += grad(u)*grad(v)*dx - k**2*u*v*dx\n",
    "a += -k*1j*u*v * ds(\"outer\") # boundary integral!\n",
    "a.Assemble()\n",
    "\n",
    "f = LinearForm(pulse * v * dx).Assemble();"
   ]
  },
  {
   "cell_type": "markdown",
   "id": "b49931b0-2814-485e-8243-28de4b18b152",
   "metadata": {},
   "source": [
    "## Solve"
   ]
  },
  {
   "cell_type": "code",
   "execution_count": 19,
   "id": "4114c620-33df-4514-a854-34864bec7b29",
   "metadata": {},
   "outputs": [
    {
     "data": {
      "application/vnd.jupyter.widget-view+json": {
       "model_id": "97410ad3f4144eb8b6b3b160de930b2f",
       "version_major": 2,
       "version_minor": 0
      },
      "text/plain": [
       "WebGuiWidget(layout=Layout(height='50vh', width='100%'), value={'gui_settings': {'Complex': {'phase': 0.0, 'sp…"
      ]
     },
     "metadata": {},
     "output_type": "display_data"
    }
   ],
   "source": [
    "sol = GridFunction(fes)\n",
    "sol.vec.data = a.mat.Inverse() * f.vec\n",
    "Draw(sol, mesh, order=5);"
   ]
  },
  {
   "cell_type": "code",
   "execution_count": null,
   "id": "2ebe4a2d-1cac-4ce2-b729-c8fe50b3dfa3",
   "metadata": {},
   "outputs": [],
   "source": []
  }
 ],
 "metadata": {
  "kernelspec": {
   "display_name": "Python 3 (ipykernel)",
   "language": "python",
   "name": "python3"
  },
  "language_info": {
   "codemirror_mode": {
    "name": "ipython",
    "version": 3
   },
   "file_extension": ".py",
   "mimetype": "text/x-python",
   "name": "python",
   "nbconvert_exporter": "python",
   "pygments_lexer": "ipython3",
   "version": "3.12.2"
  }
 },
 "nbformat": 4,
 "nbformat_minor": 5
}
