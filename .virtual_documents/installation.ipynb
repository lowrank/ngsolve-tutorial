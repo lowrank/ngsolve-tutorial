!pip3 install ngsolve numpy scipy matplotlib


!pip3 install webgui_jupyter_widgets

!conda install -y -c conda-forge jupyter_contrib_nbextensions                        
!jupyter contrib nbextension install --user 



