





# A complete tutorial can be https://docu.ngsolve.org/latest/i-tutorials/

from ngsolve import *
from ngsolve.webgui import Draw





mesh = Mesh(unit_square.GenerateMesh(maxh=0.1))
print('mesh vertices: ', mesh.nv, "\nmesh elements: ", mesh.ne )  # dnumber of vertices & elements


Draw(mesh)





mesh.Refine()

Draw(mesh)


mesh.Refine()

Draw(mesh)





mesh.GetBoundaries()








f = sin(x)





fes = H1(mesh, order=2, dirichlet='bottom|right|top|left')








g = sin(x)





u_D = GridFunction(fes)
u_D.Set(g, BND) # BND means interpolation on (near) boundary only


Draw(u_D)





u = fes.TrialFunction()  # symbolic object
v = fes.TestFunction()   # symbolic object
sol = GridFunction(fes)  # solution


a = BilinearForm(grad(u)*grad(v)*dx)
L = LinearForm(f * v * dx) # since the RHS of Poisson Eq is 0.

a.Assemble()
L.Assemble()





r = L.vec - a.mat * u_D.vec


sol.vec.data = a.mat.Inverse(freedofs=fes.FreeDofs()) * r + u_D.vec.data


Draw(sol)
