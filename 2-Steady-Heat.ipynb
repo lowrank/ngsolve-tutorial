{
 "cells": [
  {
   "cell_type": "markdown",
   "id": "aa43df0f-7534-4180-9b07-dbe33b497a0f",
   "metadata": {},
   "source": [
    "# Steady Heat Equation\n",
    "\n",
    "We extend the previous example a little bit now. Let $k(x, y)$ be a function of conductivity, and we solve\n",
    "\n",
    "$$-\\nabla \\cdot (k(x, y) \\nabla u(x, y)) = f(x, y)$$\n",
    "\n",
    "with Dirichlet BC on the left and right sides and zero Neumann BC on the top and bottom sides."
   ]
  },
  {
   "cell_type": "code",
   "execution_count": 1,
   "id": "52e2594b-5172-4901-b042-40a30fc4ac49",
   "metadata": {},
   "outputs": [],
   "source": [
    "# A complete tutorial can be found at https://docu.ngsolve.org/latest/i-tutorials/\n",
    "\n",
    "from ngsolve import *\n",
    "from ngsolve.webgui import Draw"
   ]
  },
  {
   "cell_type": "code",
   "execution_count": 2,
   "id": "87ccd996-859e-4171-bb6a-bd58bc9a9243",
   "metadata": {},
   "outputs": [],
   "source": [
    "# Create mesh on a unit square\n",
    "\n",
    "mesh = Mesh(unit_square.GenerateMesh(maxh=0.1))\n",
    "mesh.Refine()\n",
    "mesh.Refine()"
   ]
  },
  {
   "cell_type": "code",
   "execution_count": 3,
   "id": "53abe504-c5d3-4693-83e5-933308f73c7a",
   "metadata": {},
   "outputs": [],
   "source": [
    "# define the RHS function f\n",
    "f = sin(x)"
   ]
  },
  {
   "cell_type": "code",
   "execution_count": 4,
   "id": "8982f217-4d29-452d-a577-9d4aadf23106",
   "metadata": {},
   "outputs": [],
   "source": [
    "# define the conductivity function k(x,y)\n",
    "k = 1 +  0.95*cos(2*pi * y)"
   ]
  },
  {
   "cell_type": "code",
   "execution_count": 5,
   "id": "bbd331be-64bc-4300-b466-a7b7a77f165d",
   "metadata": {},
   "outputs": [],
   "source": [
    "# Dirichlet boundary condition\n",
    "g = sin(x)"
   ]
  },
  {
   "cell_type": "markdown",
   "id": "cdbcca91-d8ff-40fe-9972-5154c535b244",
   "metadata": {},
   "source": [
    "## Finite Element Space\n",
    "The FES is slightly different since the Dirichlet boundary only contains two sides, which means we have more degrees of freedom. "
   ]
  },
  {
   "cell_type": "code",
   "execution_count": 6,
   "id": "4c20f4ee-000c-42cf-9467-be040ddd65ba",
   "metadata": {},
   "outputs": [],
   "source": [
    "# The Dirichlet boundary (constraint) is only on left and right sides.\n",
    "\n",
    "fes = H1(mesh, order=2, dirichlet='right|left')"
   ]
  },
  {
   "cell_type": "code",
   "execution_count": 7,
   "id": "1960e30b-9874-4318-adb3-064b6fc8a324",
   "metadata": {},
   "outputs": [],
   "source": [
    "# Extension of Dirichlet boundary condition\n",
    "\n",
    "u_D = GridFunction(fes)\n",
    "u_D.Set(g, BND) # BND means interpolation on (near) boundary only"
   ]
  },
  {
   "cell_type": "code",
   "execution_count": 8,
   "id": "db31bacc-73d7-4821-9460-90d9986b0bc4",
   "metadata": {},
   "outputs": [
    {
     "data": {
      "application/vnd.jupyter.widget-view+json": {
       "model_id": "a351f15680714922b73fe13c874bc92e",
       "version_major": 2,
       "version_minor": 0
      },
      "text/plain": [
       "WebGuiWidget(layout=Layout(height='50vh', width='100%'), value={'gui_settings': {}, 'ngsolve_version': '6.2.24…"
      ]
     },
     "metadata": {},
     "output_type": "display_data"
    },
    {
     "data": {
      "text/plain": [
       "BaseWebGuiScene"
      ]
     },
     "execution_count": 8,
     "metadata": {},
     "output_type": "execute_result"
    }
   ],
   "source": [
    "Draw(u_D)"
   ]
  },
  {
   "cell_type": "code",
   "execution_count": 9,
   "id": "6fa7ed36-d80a-4175-90de-1f60f8752b68",
   "metadata": {},
   "outputs": [],
   "source": [
    "## Weak Forms & Assembly\n",
    "\n",
    "u = fes.TrialFunction()  # symbolic object\n",
    "v = fes.TestFunction()   # symbolic object\n",
    "sol = GridFunction(fes)  # solution"
   ]
  },
  {
   "cell_type": "code",
   "execution_count": 10,
   "id": "845708b3-3bf7-48b2-9e8b-5523934ee526",
   "metadata": {},
   "outputs": [
    {
     "data": {
      "text/plain": [
       "<ngsolve.comp.LinearForm at 0x7c6a4c1550f0>"
      ]
     },
     "execution_count": 10,
     "metadata": {},
     "output_type": "execute_result"
    }
   ],
   "source": [
    "a = BilinearForm(k * grad(u)*grad(v)*dx)\n",
    "L = LinearForm(f * v * dx) \n",
    "\n",
    "a.Assemble()\n",
    "L.Assemble()"
   ]
  },
  {
   "cell_type": "code",
   "execution_count": 11,
   "id": "56748d58-45e7-4c9d-962b-9b494ca1890b",
   "metadata": {},
   "outputs": [
    {
     "data": {
      "application/vnd.jupyter.widget-view+json": {
       "model_id": "f037d6f864e8434e9034236ceb4be050",
       "version_major": 2,
       "version_minor": 0
      },
      "text/plain": [
       "WebGuiWidget(layout=Layout(height='50vh', width='100%'), value={'gui_settings': {}, 'ngsolve_version': '6.2.24…"
      ]
     },
     "metadata": {},
     "output_type": "display_data"
    },
    {
     "data": {
      "text/plain": [
       "BaseWebGuiScene"
      ]
     },
     "execution_count": 11,
     "metadata": {},
     "output_type": "execute_result"
    }
   ],
   "source": [
    "# same as the previous example, solve only for the free dofs.\n",
    "\n",
    "r = L.vec - a.mat * u_D.vec\n",
    "sol.vec.data = a.mat.Inverse(freedofs=fes.FreeDofs()) * r + u_D.vec.data\n",
    "\n",
    "Draw(sol)"
   ]
  },
  {
   "cell_type": "code",
   "execution_count": null,
   "id": "b775a0a5-2f69-45ff-9071-751cd05577eb",
   "metadata": {},
   "outputs": [],
   "source": []
  }
 ],
 "metadata": {
  "kernelspec": {
   "display_name": "Python 3 (ipykernel)",
   "language": "python",
   "name": "python3"
  },
  "language_info": {
   "codemirror_mode": {
    "name": "ipython",
    "version": 3
   },
   "file_extension": ".py",
   "mimetype": "text/x-python",
   "name": "python",
   "nbconvert_exporter": "python",
   "pygments_lexer": "ipython3",
   "version": "3.12.2"
  }
 },
 "nbformat": 4,
 "nbformat_minor": 5
}
