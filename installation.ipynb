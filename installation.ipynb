{
 "cells": [
  {
   "cell_type": "code",
   "execution_count": null,
   "id": "fdb43af3-49ca-4ebe-a750-e50bba00cf2f",
   "metadata": {},
   "outputs": [],
   "source": [
    "!pip3 install ngsolve numpy scipy matplotlib"
   ]
  },
  {
   "cell_type": "code",
   "execution_count": null,
   "id": "e4525439-fc9c-4e5a-aea5-312db8fd9613",
   "metadata": {},
   "outputs": [],
   "source": [
    "!pip3 install webgui_jupyter_widgets\n",
    "\n",
    "!conda install -y -c conda-forge jupyter_contrib_nbextensions                        \n",
    "!jupyter contrib nbextension install --user "
   ]
  },
  {
   "cell_type": "code",
   "execution_count": null,
   "id": "c0054129-c2c7-40ac-b239-4497b0163936",
   "metadata": {},
   "outputs": [],
   "source": []
  }
 ],
 "metadata": {
  "kernelspec": {
   "display_name": "Python 3 (ipykernel)",
   "language": "python",
   "name": "python3"
  },
  "language_info": {
   "codemirror_mode": {
    "name": "ipython",
    "version": 3
   },
   "file_extension": ".py",
   "mimetype": "text/x-python",
   "name": "python",
   "nbconvert_exporter": "python",
   "pygments_lexer": "ipython3",
   "version": "3.12.2"
  }
 },
 "nbformat": 4,
 "nbformat_minor": 5
}
